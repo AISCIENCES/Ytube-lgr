{
 "cells": [
  {
   "cell_type": "code",
   "execution_count": null,
   "metadata": {},
   "outputs": [],
   "source": [
    "# https://pypi.org/project/loguru/\n",
    "!pip install loguru"
   ]
  },
  {
   "cell_type": "code",
   "execution_count": 1,
   "metadata": {},
   "outputs": [],
   "source": [
    "from loguru import logger"
   ]
  },
  {
   "cell_type": "code",
   "execution_count": 2,
   "metadata": {},
   "outputs": [
    {
     "name": "stderr",
     "output_type": "stream",
     "text": [
      "2022-05-30 16:48:16.767 | DEBUG    | __main__:<module>:1 - This is debug\n"
     ]
    }
   ],
   "source": [
    "logger.debug('This is debug')"
   ]
  },
  {
   "cell_type": "code",
   "execution_count": 3,
   "metadata": {},
   "outputs": [
    {
     "name": "stdout",
     "output_type": "stream",
     "text": [
      "This is debug\n"
     ]
    }
   ],
   "source": [
    "print('This is debug')"
   ]
  },
  {
   "cell_type": "code",
   "execution_count": 4,
   "metadata": {},
   "outputs": [
    {
     "name": "stderr",
     "output_type": "stream",
     "text": [
      "2022-05-30 16:49:05.699 | INFO     | __main__:<module>:1 - This is Info\n"
     ]
    }
   ],
   "source": [
    "logger.info('This is Info')"
   ]
  },
  {
   "cell_type": "code",
   "execution_count": 5,
   "metadata": {},
   "outputs": [
    {
     "name": "stderr",
     "output_type": "stream",
     "text": [
      "2022-05-30 16:49:24.128 | SUCCESS  | __main__:<module>:1 - This is success\n"
     ]
    }
   ],
   "source": [
    "logger.success('This is success')"
   ]
  },
  {
   "cell_type": "code",
   "execution_count": 6,
   "metadata": {},
   "outputs": [
    {
     "name": "stderr",
     "output_type": "stream",
     "text": [
      "2022-05-30 16:49:41.435 | WARNING  | __main__:<module>:1 - This is warning\n"
     ]
    }
   ],
   "source": [
    "logger.warning('This is warning')"
   ]
  },
  {
   "cell_type": "code",
   "execution_count": 7,
   "metadata": {},
   "outputs": [
    {
     "name": "stderr",
     "output_type": "stream",
     "text": [
      "2022-05-30 16:49:54.705 | ERROR    | __main__:<module>:1 - This is error\n"
     ]
    }
   ],
   "source": [
    "logger.error('This is error')"
   ]
  },
  {
   "cell_type": "code",
   "execution_count": 8,
   "metadata": {},
   "outputs": [
    {
     "name": "stderr",
     "output_type": "stream",
     "text": [
      "2022-05-30 16:50:06.166 | CRITICAL | __main__:<module>:1 - This is critical\n"
     ]
    }
   ],
   "source": [
    "logger.critical('This is critical')"
   ]
  },
  {
   "cell_type": "code",
   "execution_count": 11,
   "metadata": {},
   "outputs": [
    {
     "name": "stderr",
     "output_type": "stream",
     "text": [
      "2022-05-30 16:52:18.595 | ERROR    | __main__:<module>:5 - An error has been caught in function '<module>', process 'MainProcess' (30440), thread 'MainThread' (8652):\n",
      "Traceback (most recent call last):\n",
      "\n",
      "  File \"C:\\Users\\mg\\anaconda3\\lib\\runpy.py\", line 194, in _run_module_as_main\n",
      "    return _run_code(code, main_globals, None,\n",
      "           │         │     └ {'__name__': '__main__', '__doc__': 'Entry point for launching an IPython kernel.\\n\\nThis is separate from the ipykernel pack...\n",
      "           │         └ <code object <module> at 0x00000217757B4BE0, file \"C:\\Users\\mg\\anaconda3\\lib\\site-packages\\ipykernel_launcher.py\", line 1>\n",
      "           └ <function _run_code at 0x000002177592D4C0>\n",
      "\n",
      "  File \"C:\\Users\\mg\\anaconda3\\lib\\runpy.py\", line 87, in _run_code\n",
      "    exec(code, run_globals)\n",
      "         │     └ {'__name__': '__main__', '__doc__': 'Entry point for launching an IPython kernel.\\n\\nThis is separate from the ipykernel pack...\n",
      "         └ <code object <module> at 0x00000217757B4BE0, file \"C:\\Users\\mg\\anaconda3\\lib\\site-packages\\ipykernel_launcher.py\", line 1>\n",
      "\n",
      "  File \"C:\\Users\\mg\\anaconda3\\lib\\site-packages\\ipykernel_launcher.py\", line 16, in <module>\n",
      "    app.launch_new_instance()\n",
      "    │   └ <bound method Application.launch_instance of <class 'ipykernel.kernelapp.IPKernelApp'>>\n",
      "    └ <module 'ipykernel.kernelapp' from 'C:\\\\Users\\\\mg\\\\anaconda3\\\\lib\\\\site-packages\\\\ipykernel\\\\kernelapp.py'>\n",
      "\n",
      "  File \"C:\\Users\\mg\\anaconda3\\lib\\site-packages\\traitlets\\config\\application.py\", line 664, in launch_instance\n",
      "    app.start()\n",
      "    │   └ <function IPKernelApp.start at 0x0000021779620A60>\n",
      "    └ <ipykernel.kernelapp.IPKernelApp object at 0x0000021775738640>\n",
      "\n",
      "  File \"C:\\Users\\mg\\anaconda3\\lib\\site-packages\\ipykernel\\kernelapp.py\", line 612, in start\n",
      "    self.io_loop.start()\n",
      "    │    │       └ <function BaseAsyncIOLoop.start at 0x0000021778D074C0>\n",
      "    │    └ <tornado.platform.asyncio.AsyncIOMainLoop object at 0x0000021779631B80>\n",
      "    └ <ipykernel.kernelapp.IPKernelApp object at 0x0000021775738640>\n",
      "\n",
      "  File \"C:\\Users\\mg\\anaconda3\\lib\\site-packages\\tornado\\platform\\asyncio.py\", line 149, in start\n",
      "    self.asyncio_loop.run_forever()\n",
      "    │    │            └ <function BaseEventLoop.run_forever at 0x000002177809C5E0>\n",
      "    │    └ <_WindowsSelectorEventLoop running=True closed=False debug=False>\n",
      "    └ <tornado.platform.asyncio.AsyncIOMainLoop object at 0x0000021779631B80>\n",
      "\n",
      "  File \"C:\\Users\\mg\\anaconda3\\lib\\asyncio\\base_events.py\", line 570, in run_forever\n",
      "    self._run_once()\n",
      "    │    └ <function BaseEventLoop._run_once at 0x000002177809F160>\n",
      "    └ <_WindowsSelectorEventLoop running=True closed=False debug=False>\n",
      "\n",
      "  File \"C:\\Users\\mg\\anaconda3\\lib\\asyncio\\base_events.py\", line 1859, in _run_once\n",
      "    handle._run()\n",
      "    │      └ <function Handle._run at 0x000002177802DEE0>\n",
      "    └ <Handle IOLoop.add_future.<locals>.<lambda>(<Future finis...8E00>, ...]))>) at C:\\Users\\mg\\anaconda3\\lib\\site-packages\\tornad...\n",
      "\n",
      "  File \"C:\\Users\\mg\\anaconda3\\lib\\asyncio\\events.py\", line 81, in _run\n",
      "    self._context.run(self._callback, *self._args)\n",
      "    │    │            │    │           │    └ <member '_args' of 'Handle' objects>\n",
      "    │    │            │    │           └ <Handle IOLoop.add_future.<locals>.<lambda>(<Future finis...8E00>, ...]))>) at C:\\Users\\mg\\anaconda3\\lib\\site-packages\\tornad...\n",
      "    │    │            │    └ <member '_callback' of 'Handle' objects>\n",
      "    │    │            └ <Handle IOLoop.add_future.<locals>.<lambda>(<Future finis...8E00>, ...]))>) at C:\\Users\\mg\\anaconda3\\lib\\site-packages\\tornad...\n",
      "    │    └ <member '_context' of 'Handle' objects>\n",
      "    └ <Handle IOLoop.add_future.<locals>.<lambda>(<Future finis...8E00>, ...]))>) at C:\\Users\\mg\\anaconda3\\lib\\site-packages\\tornad...\n",
      "\n",
      "  File \"C:\\Users\\mg\\anaconda3\\lib\\site-packages\\tornado\\ioloop.py\", line 690, in <lambda>\n",
      "    lambda f: self._run_callback(functools.partial(callback, future))\n",
      "           │  │    │             │         │       │         └ <Future finished result=(10, 18, <bound method...02177968B070>>, (<zmq.eventloo...00217796316D0>, [<zmq.sugar.fr...00217796FA...\n",
      "           │  │    │             │         │       └ <function Runner.handle_yield.<locals>.inner at 0x000002177B96B160>\n",
      "           │  │    │             │         └ <class 'functools.partial'>\n",
      "           │  │    │             └ <module 'functools' from 'C:\\\\Users\\\\mg\\\\anaconda3\\\\lib\\\\functools.py'>\n",
      "           │  │    └ <function IOLoop._run_callback at 0x0000021778CEBF70>\n",
      "           │  └ <tornado.platform.asyncio.AsyncIOMainLoop object at 0x0000021779631B80>\n",
      "           └ <Future finished result=(10, 18, <bound method...02177968B070>>, (<zmq.eventloo...00217796316D0>, [<zmq.sugar.fr...00217796FA...\n",
      "\n",
      "  File \"C:\\Users\\mg\\anaconda3\\lib\\site-packages\\tornado\\ioloop.py\", line 743, in _run_callback\n",
      "    ret = callback()\n",
      "          └ functools.partial(<function Runner.handle_yield.<locals>.inner at 0x000002177B96B160>, <Future finished result=(10, 18, <boun...\n",
      "\n",
      "  File \"C:\\Users\\mg\\anaconda3\\lib\\site-packages\\tornado\\gen.py\", line 787, in inner\n",
      "    self.run()\n",
      "    │    └ <function Runner.run at 0x0000021778CFED30>\n",
      "    └ <tornado.gen.Runner object at 0x000002177B5857F0>\n",
      "\n",
      "  File \"C:\\Users\\mg\\anaconda3\\lib\\site-packages\\tornado\\gen.py\", line 748, in run\n",
      "    yielded = self.gen.send(value)\n",
      "              │    │   │    └ (10, 18, <bound method Kernel.dispatch_shell of <ipykernel.ipkernel.IPythonKernel object at 0x000002177968B070>>, (<zmq.event...\n",
      "              │    │   └ <method 'send' of 'generator' objects>\n",
      "              │    └ <generator object Kernel.process_one at 0x000002177973B9E0>\n",
      "              └ <tornado.gen.Runner object at 0x000002177B5857F0>\n",
      "\n",
      "  File \"C:\\Users\\mg\\anaconda3\\lib\\site-packages\\ipykernel\\kernelbase.py\", line 365, in process_one\n",
      "    yield gen.maybe_future(dispatch(*args))\n",
      "          │   │            │         └ (<zmq.eventloop.zmqstream.ZMQStream object at 0x00000217796316D0>, [<zmq.sugar.frame.Frame object at 0x00000217796FACA0>, <zm...\n",
      "          │   │            └ <bound method Kernel.dispatch_shell of <ipykernel.ipkernel.IPythonKernel object at 0x000002177968B070>>\n",
      "          │   └ <function maybe_future at 0x0000021778CFE940>\n",
      "          └ <module 'tornado.gen' from 'C:\\\\Users\\\\mg\\\\anaconda3\\\\lib\\\\site-packages\\\\tornado\\\\gen.py'>\n",
      "\n",
      "  File \"C:\\Users\\mg\\anaconda3\\lib\\site-packages\\tornado\\gen.py\", line 209, in wrapper\n",
      "    yielded = next(result)\n",
      "                   └ <generator object Kernel.dispatch_shell at 0x000002177B5A22E0>\n",
      "\n",
      "  File \"C:\\Users\\mg\\anaconda3\\lib\\site-packages\\ipykernel\\kernelbase.py\", line 268, in dispatch_shell\n",
      "    yield gen.maybe_future(handler(stream, idents, msg))\n",
      "          │   │            │       │       │       └ {'header': {'msg_id': '09c254813f8947238aa7728555dba1b0', 'username': 'username', 'session': '500c31282f2141cab05cdee1cfe2fa0...\n",
      "          │   │            │       │       └ [b'500c31282f2141cab05cdee1cfe2fa02']\n",
      "          │   │            │       └ <zmq.eventloop.zmqstream.ZMQStream object at 0x00000217796316D0>\n",
      "          │   │            └ <bound method Kernel.execute_request of <ipykernel.ipkernel.IPythonKernel object at 0x000002177968B070>>\n",
      "          │   └ <function maybe_future at 0x0000021778CFE940>\n",
      "          └ <module 'tornado.gen' from 'C:\\\\Users\\\\mg\\\\anaconda3\\\\lib\\\\site-packages\\\\tornado\\\\gen.py'>\n",
      "\n",
      "  File \"C:\\Users\\mg\\anaconda3\\lib\\site-packages\\tornado\\gen.py\", line 209, in wrapper\n",
      "    yielded = next(result)\n",
      "                   └ <generator object Kernel.execute_request at 0x000002177BA669E0>\n",
      "\n",
      "  File \"C:\\Users\\mg\\anaconda3\\lib\\site-packages\\ipykernel\\kernelbase.py\", line 543, in execute_request\n",
      "    self.do_execute(\n",
      "    │    └ <function IPythonKernel.do_execute at 0x000002177961B1F0>\n",
      "    └ <ipykernel.ipkernel.IPythonKernel object at 0x000002177968B070>\n",
      "\n",
      "  File \"C:\\Users\\mg\\anaconda3\\lib\\site-packages\\tornado\\gen.py\", line 209, in wrapper\n",
      "    yielded = next(result)\n",
      "                   └ <generator object IPythonKernel.do_execute at 0x000002177BA66B30>\n",
      "\n",
      "  File \"C:\\Users\\mg\\anaconda3\\lib\\site-packages\\ipykernel\\ipkernel.py\", line 306, in do_execute\n",
      "    res = shell.run_cell(code, store_history=store_history, silent=silent)\n",
      "          │     │        │                   │                     └ False\n",
      "          │     │        │                   └ True\n",
      "          │     │        └ '@logger.catch\\ndef dev_hundred(number):\\n    return 100/number\\n\\ndev_hundred(0)'\n",
      "          │     └ <function ZMQInteractiveShell.run_cell at 0x000002177960D820>\n",
      "          └ <ipykernel.zmqshell.ZMQInteractiveShell object at 0x0000021779617D00>\n",
      "\n",
      "  File \"C:\\Users\\mg\\anaconda3\\lib\\site-packages\\ipykernel\\zmqshell.py\", line 536, in run_cell\n",
      "    return super(ZMQInteractiveShell, self).run_cell(*args, **kwargs)\n",
      "                 │                    │               │       └ {'store_history': True, 'silent': False}\n",
      "                 │                    │               └ ('@logger.catch\\ndef dev_hundred(number):\\n    return 100/number\\n\\ndev_hundred(0)',)\n",
      "                 │                    └ <ipykernel.zmqshell.ZMQInteractiveShell object at 0x0000021779617D00>\n",
      "                 └ <class 'ipykernel.zmqshell.ZMQInteractiveShell'>\n",
      "\n",
      "  File \"C:\\Users\\mg\\anaconda3\\lib\\site-packages\\IPython\\core\\interactiveshell.py\", line 2866, in run_cell\n",
      "    result = self._run_cell(\n",
      "             │    └ <function InteractiveShell._run_cell at 0x0000021777F2DE50>\n",
      "             └ <ipykernel.zmqshell.ZMQInteractiveShell object at 0x0000021779617D00>\n",
      "\n",
      "  File \"C:\\Users\\mg\\anaconda3\\lib\\site-packages\\IPython\\core\\interactiveshell.py\", line 2895, in _run_cell\n",
      "    return runner(coro)\n",
      "           │      └ <coroutine object InteractiveShell.run_cell_async at 0x000002177BA6B540>\n",
      "           └ <function _pseudo_sync_runner at 0x0000021777F1D550>\n",
      "\n",
      "  File \"C:\\Users\\mg\\anaconda3\\lib\\site-packages\\IPython\\core\\async_helpers.py\", line 68, in _pseudo_sync_runner\n",
      "    coro.send(None)\n",
      "    │    └ <method 'send' of 'coroutine' objects>\n",
      "    └ <coroutine object InteractiveShell.run_cell_async at 0x000002177BA6B540>\n",
      "\n",
      "  File \"C:\\Users\\mg\\anaconda3\\lib\\site-packages\\IPython\\core\\interactiveshell.py\", line 3071, in run_cell_async\n",
      "    has_raised = await self.run_ast_nodes(code_ast.body, cell_name,\n",
      "                       │    │             │        │     └ '<ipython-input-11-1c593c59b39c>'\n",
      "                       │    │             │        └ [<_ast.FunctionDef object at 0x000002177B98C700>, <_ast.Expr object at 0x000002177B988A30>]\n",
      "                       │    │             └ <_ast.Module object at 0x000002177B98C610>\n",
      "                       │    └ <function InteractiveShell.run_ast_nodes at 0x0000021777F2F160>\n",
      "                       └ <ipykernel.zmqshell.ZMQInteractiveShell object at 0x0000021779617D00>\n",
      "\n",
      "  File \"C:\\Users\\mg\\anaconda3\\lib\\site-packages\\IPython\\core\\interactiveshell.py\", line 3263, in run_ast_nodes\n",
      "    if (await self.run_code(code, result,  async_=asy)):\n",
      "              │    │        │     │               └ False\n",
      "              │    │        │     └ <ExecutionResult object at 2177b9413a0, execution_count=11 error_before_exec=None error_in_exec=None info=<ExecutionInfo obje...\n",
      "              │    │        └ <code object <module> at 0x000002177BFE1DF0, file \"<ipython-input-11-1c593c59b39c>\", line 5>\n",
      "              │    └ <function InteractiveShell.run_code at 0x0000021777F2F280>\n",
      "              └ <ipykernel.zmqshell.ZMQInteractiveShell object at 0x0000021779617D00>\n",
      "\n",
      "  File \"C:\\Users\\mg\\anaconda3\\lib\\site-packages\\IPython\\core\\interactiveshell.py\", line 3343, in run_code\n",
      "    exec(code_obj, self.user_global_ns, self.user_ns)\n",
      "         │         │    │               │    └ {'__name__': '__main__', '__doc__': 'Automatically created module for IPython interactive environment', '__package__': None, ...\n",
      "         │         │    │               └ <ipykernel.zmqshell.ZMQInteractiveShell object at 0x0000021779617D00>\n",
      "         │         │    └ <property object at 0x0000021777F1EDB0>\n",
      "         │         └ <ipykernel.zmqshell.ZMQInteractiveShell object at 0x0000021779617D00>\n",
      "         └ <code object <module> at 0x000002177BFE1DF0, file \"<ipython-input-11-1c593c59b39c>\", line 5>\n",
      "\n",
      "> File \"<ipython-input-11-1c593c59b39c>\", line 5, in <module>\n",
      "    dev_hundred(0)\n",
      "    └ <function dev_hundred at 0x000002177BA5E790>\n",
      "  File \"<ipython-input-11-1c593c59b39c>\", line 3, in dev_hundred\n",
      "    return 100/number\n",
      "               └ 0\n",
      "\n",
      "ZeroDivisionError: division by zero\n"
     ]
    }
   ],
   "source": [
    "logger.add(\"file_{time}.log\", level = )\n",
    "\n",
    "@logger.catch\n",
    "def dev_hundred(number):\n",
    "    return 100/number\n",
    "\n",
    "dev_hundred(0)"
   ]
  },
  {
   "cell_type": "code",
   "execution_count": 9,
   "metadata": {},
   "outputs": [
    {
     "ename": "ZeroDivisionError",
     "evalue": "division by zero",
     "output_type": "error",
     "traceback": [
      "\u001b[1;31m---------------------------------------------------------------------------\u001b[0m",
      "\u001b[1;31mZeroDivisionError\u001b[0m                         Traceback (most recent call last)",
      "\u001b[1;32m<ipython-input-9-898e9759c56e>\u001b[0m in \u001b[0;36m<module>\u001b[1;34m\u001b[0m\n\u001b[1;32m----> 1\u001b[1;33m \u001b[1;36m12\u001b[0m\u001b[1;33m/\u001b[0m\u001b[1;36m0\u001b[0m\u001b[1;33m\u001b[0m\u001b[1;33m\u001b[0m\u001b[0m\n\u001b[0m",
      "\u001b[1;31mZeroDivisionError\u001b[0m: division by zero"
     ]
    }
   ],
   "source": [
    "12/0"
   ]
  },
  {
   "cell_type": "code",
   "execution_count": null,
   "metadata": {},
   "outputs": [],
   "source": []
  }
 ],
 "metadata": {
  "kernelspec": {
   "display_name": "Python 3",
   "language": "python",
   "name": "python3"
  },
  "language_info": {
   "codemirror_mode": {
    "name": "ipython",
    "version": 3
   },
   "file_extension": ".py",
   "mimetype": "text/x-python",
   "name": "python",
   "nbconvert_exporter": "python",
   "pygments_lexer": "ipython3",
   "version": "3.8.3"
  }
 },
 "nbformat": 4,
 "nbformat_minor": 4
}
